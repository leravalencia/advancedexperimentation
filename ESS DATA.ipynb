{
 "cells": [
  {
   "cell_type": "code",
   "execution_count": 67,
   "metadata": {},
   "outputs": [],
   "source": [
    "import numpy as np\n",
    "import pandas as pd\n",
    "import matplotlib.pyplot as plt\n",
    "%matplotlib inline\n",
    "# import seaborn\n",
    "import seaborn as sns\n",
    "import pandas as pd\n",
    "import numpy as np\n",
    "import matplotlib.pyplot as plt\n",
    "import seaborn as sns\n",
    "import math\n",
    "from sklearn.preprocessing import StandardScaler\n",
    "from sklearn.decomposition import PCA\n",
    "from sqlalchemy import create_engine\n",
    "import warnings\n",
    "from scipy.stats.mstats import winsorize\n",
    "import scipy.stats as stats\n",
    "\n",
    "warnings.filterwarnings('ignore')\n",
    "sns.set_style(\"whitegrid\")\n",
    "df = pd.read_csv ('ESSdata_Thinkful.csv')"
   ]
  },
  {
   "cell_type": "code",
   "execution_count": 3,
   "metadata": {},
   "outputs": [
    {
     "data": {
      "text/html": [
       "<div>\n",
       "<style scoped>\n",
       "    .dataframe tbody tr th:only-of-type {\n",
       "        vertical-align: middle;\n",
       "    }\n",
       "\n",
       "    .dataframe tbody tr th {\n",
       "        vertical-align: top;\n",
       "    }\n",
       "\n",
       "    .dataframe thead th {\n",
       "        text-align: right;\n",
       "    }\n",
       "</style>\n",
       "<table border=\"1\" class=\"dataframe\">\n",
       "  <thead>\n",
       "    <tr style=\"text-align: right;\">\n",
       "      <th></th>\n",
       "      <th>cntry</th>\n",
       "      <th>idno</th>\n",
       "      <th>year</th>\n",
       "      <th>tvtot</th>\n",
       "      <th>ppltrst</th>\n",
       "      <th>pplfair</th>\n",
       "      <th>pplhlp</th>\n",
       "      <th>happy</th>\n",
       "      <th>sclmeet</th>\n",
       "      <th>sclact</th>\n",
       "      <th>gndr</th>\n",
       "      <th>agea</th>\n",
       "      <th>partner</th>\n",
       "    </tr>\n",
       "  </thead>\n",
       "  <tbody>\n",
       "    <tr>\n",
       "      <th>0</th>\n",
       "      <td>CH</td>\n",
       "      <td>5.0</td>\n",
       "      <td>6</td>\n",
       "      <td>3.0</td>\n",
       "      <td>3.0</td>\n",
       "      <td>10.0</td>\n",
       "      <td>5.0</td>\n",
       "      <td>8.0</td>\n",
       "      <td>5.0</td>\n",
       "      <td>4.0</td>\n",
       "      <td>2.0</td>\n",
       "      <td>60.0</td>\n",
       "      <td>1.0</td>\n",
       "    </tr>\n",
       "    <tr>\n",
       "      <th>1</th>\n",
       "      <td>CH</td>\n",
       "      <td>25.0</td>\n",
       "      <td>6</td>\n",
       "      <td>6.0</td>\n",
       "      <td>5.0</td>\n",
       "      <td>7.0</td>\n",
       "      <td>5.0</td>\n",
       "      <td>9.0</td>\n",
       "      <td>3.0</td>\n",
       "      <td>2.0</td>\n",
       "      <td>2.0</td>\n",
       "      <td>59.0</td>\n",
       "      <td>1.0</td>\n",
       "    </tr>\n",
       "    <tr>\n",
       "      <th>2</th>\n",
       "      <td>CH</td>\n",
       "      <td>26.0</td>\n",
       "      <td>6</td>\n",
       "      <td>1.0</td>\n",
       "      <td>8.0</td>\n",
       "      <td>8.0</td>\n",
       "      <td>8.0</td>\n",
       "      <td>7.0</td>\n",
       "      <td>6.0</td>\n",
       "      <td>3.0</td>\n",
       "      <td>1.0</td>\n",
       "      <td>24.0</td>\n",
       "      <td>2.0</td>\n",
       "    </tr>\n",
       "    <tr>\n",
       "      <th>3</th>\n",
       "      <td>CH</td>\n",
       "      <td>28.0</td>\n",
       "      <td>6</td>\n",
       "      <td>4.0</td>\n",
       "      <td>6.0</td>\n",
       "      <td>6.0</td>\n",
       "      <td>7.0</td>\n",
       "      <td>10.0</td>\n",
       "      <td>6.0</td>\n",
       "      <td>2.0</td>\n",
       "      <td>2.0</td>\n",
       "      <td>64.0</td>\n",
       "      <td>1.0</td>\n",
       "    </tr>\n",
       "    <tr>\n",
       "      <th>4</th>\n",
       "      <td>CH</td>\n",
       "      <td>29.0</td>\n",
       "      <td>6</td>\n",
       "      <td>5.0</td>\n",
       "      <td>6.0</td>\n",
       "      <td>7.0</td>\n",
       "      <td>5.0</td>\n",
       "      <td>8.0</td>\n",
       "      <td>7.0</td>\n",
       "      <td>2.0</td>\n",
       "      <td>2.0</td>\n",
       "      <td>55.0</td>\n",
       "      <td>1.0</td>\n",
       "    </tr>\n",
       "  </tbody>\n",
       "</table>\n",
       "</div>"
      ],
      "text/plain": [
       "  cntry  idno  year  tvtot  ppltrst  pplfair  pplhlp  happy  sclmeet  sclact  \\\n",
       "0    CH   5.0     6    3.0      3.0     10.0     5.0    8.0      5.0     4.0   \n",
       "1    CH  25.0     6    6.0      5.0      7.0     5.0    9.0      3.0     2.0   \n",
       "2    CH  26.0     6    1.0      8.0      8.0     8.0    7.0      6.0     3.0   \n",
       "3    CH  28.0     6    4.0      6.0      6.0     7.0   10.0      6.0     2.0   \n",
       "4    CH  29.0     6    5.0      6.0      7.0     5.0    8.0      7.0     2.0   \n",
       "\n",
       "   gndr  agea  partner  \n",
       "0   2.0  60.0      1.0  \n",
       "1   2.0  59.0      1.0  \n",
       "2   1.0  24.0      2.0  \n",
       "3   2.0  64.0      1.0  \n",
       "4   2.0  55.0      1.0  "
      ]
     },
     "execution_count": 3,
     "metadata": {},
     "output_type": "execute_result"
    }
   ],
   "source": [
    "df.head()"
   ]
  },
  {
   "cell_type": "code",
   "execution_count": 4,
   "metadata": {},
   "outputs": [
    {
     "ename": "AttributeError",
     "evalue": "'AxesSubplot' object has no attribute 'set_ylabels'",
     "output_type": "error",
     "traceback": [
      "\u001b[0;31m---------------------------------------------------------------------------\u001b[0m",
      "\u001b[0;31mAttributeError\u001b[0m                            Traceback (most recent call last)",
      "\u001b[0;32m<ipython-input-4-81904280d4dd>\u001b[0m in \u001b[0;36m<module>\u001b[0;34m\u001b[0m\n\u001b[1;32m      3\u001b[0m g = sns.boxplot(y='happy', x = 'year', \n\u001b[1;32m      4\u001b[0m                  data=df)\n\u001b[0;32m----> 5\u001b[0;31m \u001b[0mg\u001b[0m\u001b[0;34m.\u001b[0m\u001b[0mset_ylabels\u001b[0m\u001b[0;34m(\u001b[0m\u001b[0;34m\"happy\"\u001b[0m\u001b[0;34m)\u001b[0m\u001b[0;34m\u001b[0m\u001b[0;34m\u001b[0m\u001b[0m\n\u001b[0m\u001b[1;32m      6\u001b[0m \u001b[0mg\u001b[0m\u001b[0;34m.\u001b[0m\u001b[0mset_xlabels\u001b[0m\u001b[0;34m(\u001b[0m\u001b[0;34m\"year\"\u001b[0m\u001b[0;34m)\u001b[0m\u001b[0;34m\u001b[0m\u001b[0;34m\u001b[0m\u001b[0m\n\u001b[1;32m      7\u001b[0m \u001b[0mplt\u001b[0m\u001b[0;34m.\u001b[0m\u001b[0mtitle\u001b[0m\u001b[0;34m(\u001b[0m\u001b[0;34m'Barplot: happy by year'\u001b[0m\u001b[0;34m)\u001b[0m\u001b[0;34m\u001b[0m\u001b[0;34m\u001b[0m\u001b[0m\n",
      "\u001b[0;31mAttributeError\u001b[0m: 'AxesSubplot' object has no attribute 'set_ylabels'"
     ]
    },
    {
     "data": {
      "image/png": "[encoded data removed]",
      "text/plain": [
       "<Figure size 432x288 with 1 Axes>"
      ]
     },
     "metadata": {},
     "output_type": "display_data"
    }
   ],
   "source": [
    "#Let's show how happy people by years\n",
    "sns.set(style=\"whitegrid\")\n",
    "g = sns.boxplot(y='happy', x = 'year', \n",
    "                 data=df)\n",
    "g.set_ylabels(\"happy\")\n",
    "g.set_xlabels(\"year\")\n",
    "plt.title('Barplot: happy by year')\n",
    "plt.show()"
   ]
  },
  {
   "cell_type": "code",
   "execution_count": 5,
   "metadata": {},
   "outputs": [
    {
     "ename": "AttributeError",
     "evalue": "'AxesSubplot' object has no attribute 'set_ylabels'",
     "output_type": "error",
     "traceback": [
      "\u001b[0;31m---------------------------------------------------------------------------\u001b[0m",
      "\u001b[0;31mAttributeError\u001b[0m                            Traceback (most recent call last)",
      "\u001b[0;32m<ipython-input-5-b36feaac6562>\u001b[0m in \u001b[0;36m<module>\u001b[0;34m\u001b[0m\n\u001b[1;32m      3\u001b[0m g = sns.boxplot(y='ppltrst', x = 'year', \n\u001b[1;32m      4\u001b[0m                  data=df)\n\u001b[0;32m----> 5\u001b[0;31m \u001b[0mg\u001b[0m\u001b[0;34m.\u001b[0m\u001b[0mset_ylabels\u001b[0m\u001b[0;34m(\u001b[0m\u001b[0;34m\"ppltrst\"\u001b[0m\u001b[0;34m)\u001b[0m\u001b[0;34m\u001b[0m\u001b[0;34m\u001b[0m\u001b[0m\n\u001b[0m\u001b[1;32m      6\u001b[0m \u001b[0mg\u001b[0m\u001b[0;34m.\u001b[0m\u001b[0mset_xlabels\u001b[0m\u001b[0;34m(\u001b[0m\u001b[0;34m\"year\"\u001b[0m\u001b[0;34m)\u001b[0m\u001b[0;34m\u001b[0m\u001b[0;34m\u001b[0m\u001b[0m\n\u001b[1;32m      7\u001b[0m \u001b[0mplt\u001b[0m\u001b[0;34m.\u001b[0m\u001b[0mtitle\u001b[0m\u001b[0;34m(\u001b[0m\u001b[0;34m'Barplot: ppltrst by year'\u001b[0m\u001b[0;34m)\u001b[0m\u001b[0;34m\u001b[0m\u001b[0;34m\u001b[0m\u001b[0m\n",
      "\u001b[0;31mAttributeError\u001b[0m: 'AxesSubplot' object has no attribute 'set_ylabels'"
     ]
    },
    {
     "data": {
      "image/png": "[encoded data removed]",
      "text/plain": [
       "<Figure size 432x288 with 1 Axes>"
      ]
     },
     "metadata": {},
     "output_type": "display_data"
    }
   ],
   "source": [
    "#Let's show how happy people by years\n",
    "sns.set(style=\"whitegrid\")\n",
    "g = sns.boxplot(y='ppltrst', x = 'year', \n",
    "                 data=df)\n",
    "g.set_ylabels(\"ppltrst\")\n",
    "g.set_xlabels(\"year\")\n",
    "plt.title('Barplot: ppltrst by year')\n",
    "plt.show()"
   ]
  },
  {
   "cell_type": "code",
   "execution_count": 6,
   "metadata": {},
   "outputs": [
    {
     "ename": "SyntaxError",
     "evalue": "invalid syntax (<ipython-input-6-a4b4ad3ef4eb>, line 1)",
     "output_type": "error",
     "traceback": [
      "\u001b[0;36m  File \u001b[0;32m\"<ipython-input-6-a4b4ad3ef4eb>\"\u001b[0;36m, line \u001b[0;32m1\u001b[0m\n\u001b[0;31m    Did people become less trusting from 2012 to 2014? Compute results for each country in the sample\u001b[0m\n\u001b[0m             ^\u001b[0m\n\u001b[0;31mSyntaxError\u001b[0m\u001b[0;31m:\u001b[0m invalid syntax\n"
     ]
    }
   ],
   "source": [
    "Did people become less trusting from 2012 to 2014? Compute results for each country in the sample"
   ]
  },
  {
   "cell_type": "code",
   "execution_count": 7,
   "metadata": {},
   "outputs": [
    {
     "data": {
      "image/png": "[encoded data removed]",
      "text/plain": [
       "<Figure size 416.1x360 with 1 Axes>"
      ]
     },
     "metadata": {},
     "output_type": "display_data"
    }
   ],
   "source": [
    "sns.lmplot(x=\"year\", y=\"ppltrst\", hue=\"cntry\",\n",
    "           data=df);"
   ]
  },
  {
   "cell_type": "code",
   "execution_count": 8,
   "metadata": {},
   "outputs": [
    {
     "data": {
      "text/html": [
       "<div>\n",
       "<style scoped>\n",
       "    .dataframe tbody tr th:only-of-type {\n",
       "        vertical-align: middle;\n",
       "    }\n",
       "\n",
       "    .dataframe tbody tr th {\n",
       "        vertical-align: top;\n",
       "    }\n",
       "\n",
       "    .dataframe thead th {\n",
       "        text-align: right;\n",
       "    }\n",
       "</style>\n",
       "<table border=\"1\" class=\"dataframe\">\n",
       "  <thead>\n",
       "    <tr style=\"text-align: right;\">\n",
       "      <th></th>\n",
       "      <th></th>\n",
       "      <th>idno</th>\n",
       "      <th>tvtot</th>\n",
       "      <th>ppltrst</th>\n",
       "      <th>pplfair</th>\n",
       "      <th>pplhlp</th>\n",
       "      <th>happy</th>\n",
       "      <th>sclmeet</th>\n",
       "      <th>sclact</th>\n",
       "      <th>gndr</th>\n",
       "      <th>agea</th>\n",
       "      <th>partner</th>\n",
       "    </tr>\n",
       "    <tr>\n",
       "      <th>year</th>\n",
       "      <th>cntry</th>\n",
       "      <th></th>\n",
       "      <th></th>\n",
       "      <th></th>\n",
       "      <th></th>\n",
       "      <th></th>\n",
       "      <th></th>\n",
       "      <th></th>\n",
       "      <th></th>\n",
       "      <th></th>\n",
       "      <th></th>\n",
       "      <th></th>\n",
       "    </tr>\n",
       "  </thead>\n",
       "  <tbody>\n",
       "    <tr>\n",
       "      <th rowspan=\"6\" valign=\"top\">6</th>\n",
       "      <th>CH</th>\n",
       "      <td>1.480680e+03</td>\n",
       "      <td>3.141192</td>\n",
       "      <td>5.677878</td>\n",
       "      <td>6.350649</td>\n",
       "      <td>5.726329</td>\n",
       "      <td>8.088312</td>\n",
       "      <td>5.080519</td>\n",
       "      <td>2.704724</td>\n",
       "      <td>1.514877</td>\n",
       "      <td>47.344415</td>\n",
       "      <td>1.349288</td>\n",
       "    </tr>\n",
       "    <tr>\n",
       "      <th>CZ</th>\n",
       "      <td>1.445666e+03</td>\n",
       "      <td>5.142420</td>\n",
       "      <td>4.362519</td>\n",
       "      <td>4.959938</td>\n",
       "      <td>4.503058</td>\n",
       "      <td>6.770898</td>\n",
       "      <td>4.648855</td>\n",
       "      <td>2.613354</td>\n",
       "      <td>1.515198</td>\n",
       "      <td>47.053208</td>\n",
       "      <td>1.432927</td>\n",
       "    </tr>\n",
       "    <tr>\n",
       "      <th>DE</th>\n",
       "      <td>1.100048e+07</td>\n",
       "      <td>4.928571</td>\n",
       "      <td>5.214286</td>\n",
       "      <td>5.692308</td>\n",
       "      <td>5.000000</td>\n",
       "      <td>7.428571</td>\n",
       "      <td>5.000000</td>\n",
       "      <td>2.857143</td>\n",
       "      <td>1.571429</td>\n",
       "      <td>52.071429</td>\n",
       "      <td>1.357143</td>\n",
       "    </tr>\n",
       "    <tr>\n",
       "      <th>ES</th>\n",
       "      <td>1.467607e+03</td>\n",
       "      <td>3.977741</td>\n",
       "      <td>5.114592</td>\n",
       "      <td>5.354253</td>\n",
       "      <td>4.748344</td>\n",
       "      <td>7.548680</td>\n",
       "      <td>5.228737</td>\n",
       "      <td>2.560266</td>\n",
       "      <td>1.515251</td>\n",
       "      <td>47.700340</td>\n",
       "      <td>1.372727</td>\n",
       "    </tr>\n",
       "    <tr>\n",
       "      <th>NO</th>\n",
       "      <td>1.430671e+04</td>\n",
       "      <td>3.837209</td>\n",
       "      <td>6.649315</td>\n",
       "      <td>6.927298</td>\n",
       "      <td>6.085048</td>\n",
       "      <td>8.251719</td>\n",
       "      <td>5.530780</td>\n",
       "      <td>2.965565</td>\n",
       "      <td>1.471956</td>\n",
       "      <td>46.364903</td>\n",
       "      <td>1.348422</td>\n",
       "    </tr>\n",
       "    <tr>\n",
       "      <th>SE</th>\n",
       "      <td>1.765173e+03</td>\n",
       "      <td>3.691630</td>\n",
       "      <td>6.058499</td>\n",
       "      <td>6.559116</td>\n",
       "      <td>6.039691</td>\n",
       "      <td>7.907387</td>\n",
       "      <td>5.528115</td>\n",
       "      <td>2.917960</td>\n",
       "      <td>1.471366</td>\n",
       "      <td>48.673563</td>\n",
       "      <td>1.387665</td>\n",
       "    </tr>\n",
       "    <tr>\n",
       "      <th rowspan=\"6\" valign=\"top\">7</th>\n",
       "      <th>CH</th>\n",
       "      <td>1.480680e+03</td>\n",
       "      <td>3.065977</td>\n",
       "      <td>5.751617</td>\n",
       "      <td>6.219922</td>\n",
       "      <td>5.671410</td>\n",
       "      <td>8.116429</td>\n",
       "      <td>5.160622</td>\n",
       "      <td>2.781699</td>\n",
       "      <td>1.512290</td>\n",
       "      <td>46.141145</td>\n",
       "      <td>1.376455</td>\n",
       "    </tr>\n",
       "    <tr>\n",
       "      <th>CZ</th>\n",
       "      <td>1.445666e+03</td>\n",
       "      <td>4.686930</td>\n",
       "      <td>4.424658</td>\n",
       "      <td>4.904255</td>\n",
       "      <td>4.465753</td>\n",
       "      <td>6.914110</td>\n",
       "      <td>4.445802</td>\n",
       "      <td>2.703077</td>\n",
       "      <td>1.535494</td>\n",
       "      <td>45.552262</td>\n",
       "      <td>1.420245</td>\n",
       "    </tr>\n",
       "    <tr>\n",
       "      <th>DE</th>\n",
       "      <td>1.100048e+07</td>\n",
       "      <td>3.071429</td>\n",
       "      <td>5.357143</td>\n",
       "      <td>6.714286</td>\n",
       "      <td>5.857143</td>\n",
       "      <td>7.857143</td>\n",
       "      <td>4.428571</td>\n",
       "      <td>2.714286</td>\n",
       "      <td>1.571429</td>\n",
       "      <td>59.714286</td>\n",
       "      <td>1.142857</td>\n",
       "    </tr>\n",
       "    <tr>\n",
       "      <th>ES</th>\n",
       "      <td>1.467607e+03</td>\n",
       "      <td>4.015677</td>\n",
       "      <td>4.895128</td>\n",
       "      <td>5.340284</td>\n",
       "      <td>4.326716</td>\n",
       "      <td>7.419967</td>\n",
       "      <td>5.260116</td>\n",
       "      <td>2.616878</td>\n",
       "      <td>1.493817</td>\n",
       "      <td>48.048223</td>\n",
       "      <td>1.398347</td>\n",
       "    </tr>\n",
       "    <tr>\n",
       "      <th>NO</th>\n",
       "      <td>1.430671e+04</td>\n",
       "      <td>3.705882</td>\n",
       "      <td>6.598630</td>\n",
       "      <td>6.861454</td>\n",
       "      <td>6.001374</td>\n",
       "      <td>7.915185</td>\n",
       "      <td>5.302326</td>\n",
       "      <td>2.859097</td>\n",
       "      <td>1.461012</td>\n",
       "      <td>46.707521</td>\n",
       "      <td>1.390411</td>\n",
       "    </tr>\n",
       "    <tr>\n",
       "      <th>SE</th>\n",
       "      <td>1.765173e+03</td>\n",
       "      <td>3.585447</td>\n",
       "      <td>6.257709</td>\n",
       "      <td>6.836464</td>\n",
       "      <td>6.082781</td>\n",
       "      <td>7.946961</td>\n",
       "      <td>5.426211</td>\n",
       "      <td>2.879425</td>\n",
       "      <td>1.482379</td>\n",
       "      <td>49.403189</td>\n",
       "      <td>1.386564</td>\n",
       "    </tr>\n",
       "  </tbody>\n",
       "</table>\n",
       "</div>"
      ],
      "text/plain": [
       "                    idno     tvtot   ppltrst   pplfair    pplhlp     happy  \\\n",
       "year cntry                                                                   \n",
       "6    CH     1.480680e+03  3.141192  5.677878  6.350649  5.726329  8.088312   \n",
       "     CZ     1.445666e+03  5.142420  4.362519  4.959938  4.503058  6.770898   \n",
       "     DE     1.100048e+07  4.928571  5.214286  5.692308  5.000000  7.428571   \n",
       "     ES     1.467607e+03  3.977741  5.114592  5.354253  4.748344  7.548680   \n",
       "     NO     1.430671e+04  3.837209  6.649315  6.927298  6.085048  8.251719   \n",
       "     SE     1.765173e+03  3.691630  6.058499  6.559116  6.039691  7.907387   \n",
       "7    CH     1.480680e+03  3.065977  5.751617  6.219922  5.671410  8.116429   \n",
       "     CZ     1.445666e+03  4.686930  4.424658  4.904255  4.465753  6.914110   \n",
       "     DE     1.100048e+07  3.071429  5.357143  6.714286  5.857143  7.857143   \n",
       "     ES     1.467607e+03  4.015677  4.895128  5.340284  4.326716  7.419967   \n",
       "     NO     1.430671e+04  3.705882  6.598630  6.861454  6.001374  7.915185   \n",
       "     SE     1.765173e+03  3.585447  6.257709  6.836464  6.082781  7.946961   \n",
       "\n",
       "             sclmeet    sclact      gndr       agea   partner  \n",
       "year cntry                                                     \n",
       "6    CH     5.080519  2.704724  1.514877  47.344415  1.349288  \n",
       "     CZ     4.648855  2.613354  1.515198  47.053208  1.432927  \n",
       "     DE     5.000000  2.857143  1.571429  52.071429  1.357143  \n",
       "     ES     5.228737  2.560266  1.515251  47.700340  1.372727  \n",
       "     NO     5.530780  2.965565  1.471956  46.364903  1.348422  \n",
       "     SE     5.528115  2.917960  1.471366  48.673563  1.387665  \n",
       "7    CH     5.160622  2.781699  1.512290  46.141145  1.376455  \n",
       "     CZ     4.445802  2.703077  1.535494  45.552262  1.420245  \n",
       "     DE     4.428571  2.714286  1.571429  59.714286  1.142857  \n",
       "     ES     5.260116  2.616878  1.493817  48.048223  1.398347  \n",
       "     NO     5.302326  2.859097  1.461012  46.707521  1.390411  \n",
       "     SE     5.426211  2.879425  1.482379  49.403189  1.386564  "
      ]
     },
     "execution_count": 8,
     "metadata": {},
     "output_type": "execute_result"
    }
   ],
   "source": [
    "df.groupby(['year','cntry']).mean()"
   ]
  },
  {
   "cell_type": "code",
   "execution_count": 9,
   "metadata": {},
   "outputs": [],
   "source": [
    "from scipy.stats import ttest_ind"
   ]
  },
  {
   "cell_type": "code",
   "execution_count": 17,
   "metadata": {},
   "outputs": [],
   "source": [
    "cat1 = df[df['year']==6].groupby('cntry').mean()\n",
    "cat2 = df[df['year']==7].groupby('cntry').mean()"
   ]
  },
  {
   "cell_type": "code",
   "execution_count": 18,
   "metadata": {},
   "outputs": [
    {
     "data": {
      "text/html": [
       "<div>\n",
       "<style scoped>\n",
       "    .dataframe tbody tr th:only-of-type {\n",
       "        vertical-align: middle;\n",
       "    }\n",
       "\n",
       "    .dataframe tbody tr th {\n",
       "        vertical-align: top;\n",
       "    }\n",
       "\n",
       "    .dataframe thead th {\n",
       "        text-align: right;\n",
       "    }\n",
       "</style>\n",
       "<table border=\"1\" class=\"dataframe\">\n",
       "  <thead>\n",
       "    <tr style=\"text-align: right;\">\n",
       "      <th></th>\n",
       "      <th>idno</th>\n",
       "      <th>year</th>\n",
       "      <th>tvtot</th>\n",
       "      <th>ppltrst</th>\n",
       "      <th>pplfair</th>\n",
       "      <th>pplhlp</th>\n",
       "      <th>happy</th>\n",
       "      <th>sclmeet</th>\n",
       "      <th>sclact</th>\n",
       "      <th>gndr</th>\n",
       "      <th>agea</th>\n",
       "      <th>partner</th>\n",
       "    </tr>\n",
       "    <tr>\n",
       "      <th>cntry</th>\n",
       "      <th></th>\n",
       "      <th></th>\n",
       "      <th></th>\n",
       "      <th></th>\n",
       "      <th></th>\n",
       "      <th></th>\n",
       "      <th></th>\n",
       "      <th></th>\n",
       "      <th></th>\n",
       "      <th></th>\n",
       "      <th></th>\n",
       "      <th></th>\n",
       "    </tr>\n",
       "  </thead>\n",
       "  <tbody>\n",
       "    <tr>\n",
       "      <th>CH</th>\n",
       "      <td>1.480680e+03</td>\n",
       "      <td>7</td>\n",
       "      <td>3.065977</td>\n",
       "      <td>5.751617</td>\n",
       "      <td>6.219922</td>\n",
       "      <td>5.671410</td>\n",
       "      <td>8.116429</td>\n",
       "      <td>5.160622</td>\n",
       "      <td>2.781699</td>\n",
       "      <td>1.512290</td>\n",
       "      <td>46.141145</td>\n",
       "      <td>1.376455</td>\n",
       "    </tr>\n",
       "    <tr>\n",
       "      <th>CZ</th>\n",
       "      <td>1.445666e+03</td>\n",
       "      <td>7</td>\n",
       "      <td>4.686930</td>\n",
       "      <td>4.424658</td>\n",
       "      <td>4.904255</td>\n",
       "      <td>4.465753</td>\n",
       "      <td>6.914110</td>\n",
       "      <td>4.445802</td>\n",
       "      <td>2.703077</td>\n",
       "      <td>1.535494</td>\n",
       "      <td>45.552262</td>\n",
       "      <td>1.420245</td>\n",
       "    </tr>\n",
       "    <tr>\n",
       "      <th>DE</th>\n",
       "      <td>1.100048e+07</td>\n",
       "      <td>7</td>\n",
       "      <td>3.071429</td>\n",
       "      <td>5.357143</td>\n",
       "      <td>6.714286</td>\n",
       "      <td>5.857143</td>\n",
       "      <td>7.857143</td>\n",
       "      <td>4.428571</td>\n",
       "      <td>2.714286</td>\n",
       "      <td>1.571429</td>\n",
       "      <td>59.714286</td>\n",
       "      <td>1.142857</td>\n",
       "    </tr>\n",
       "    <tr>\n",
       "      <th>ES</th>\n",
       "      <td>1.467607e+03</td>\n",
       "      <td>7</td>\n",
       "      <td>4.015677</td>\n",
       "      <td>4.895128</td>\n",
       "      <td>5.340284</td>\n",
       "      <td>4.326716</td>\n",
       "      <td>7.419967</td>\n",
       "      <td>5.260116</td>\n",
       "      <td>2.616878</td>\n",
       "      <td>1.493817</td>\n",
       "      <td>48.048223</td>\n",
       "      <td>1.398347</td>\n",
       "    </tr>\n",
       "    <tr>\n",
       "      <th>NO</th>\n",
       "      <td>1.430671e+04</td>\n",
       "      <td>7</td>\n",
       "      <td>3.705882</td>\n",
       "      <td>6.598630</td>\n",
       "      <td>6.861454</td>\n",
       "      <td>6.001374</td>\n",
       "      <td>7.915185</td>\n",
       "      <td>5.302326</td>\n",
       "      <td>2.859097</td>\n",
       "      <td>1.461012</td>\n",
       "      <td>46.707521</td>\n",
       "      <td>1.390411</td>\n",
       "    </tr>\n",
       "    <tr>\n",
       "      <th>SE</th>\n",
       "      <td>1.765173e+03</td>\n",
       "      <td>7</td>\n",
       "      <td>3.585447</td>\n",
       "      <td>6.257709</td>\n",
       "      <td>6.836464</td>\n",
       "      <td>6.082781</td>\n",
       "      <td>7.946961</td>\n",
       "      <td>5.426211</td>\n",
       "      <td>2.879425</td>\n",
       "      <td>1.482379</td>\n",
       "      <td>49.403189</td>\n",
       "      <td>1.386564</td>\n",
       "    </tr>\n",
       "  </tbody>\n",
       "</table>\n",
       "</div>"
      ],
      "text/plain": [
       "               idno  year     tvtot   ppltrst   pplfair    pplhlp     happy  \\\n",
       "cntry                                                                         \n",
       "CH     1.480680e+03     7  3.065977  5.751617  6.219922  5.671410  8.116429   \n",
       "CZ     1.445666e+03     7  4.686930  4.424658  4.904255  4.465753  6.914110   \n",
       "DE     1.100048e+07     7  3.071429  5.357143  6.714286  5.857143  7.857143   \n",
       "ES     1.467607e+03     7  4.015677  4.895128  5.340284  4.326716  7.419967   \n",
       "NO     1.430671e+04     7  3.705882  6.598630  6.861454  6.001374  7.915185   \n",
       "SE     1.765173e+03     7  3.585447  6.257709  6.836464  6.082781  7.946961   \n",
       "\n",
       "        sclmeet    sclact      gndr       agea   partner  \n",
       "cntry                                                     \n",
       "CH     5.160622  2.781699  1.512290  46.141145  1.376455  \n",
       "CZ     4.445802  2.703077  1.535494  45.552262  1.420245  \n",
       "DE     4.428571  2.714286  1.571429  59.714286  1.142857  \n",
       "ES     5.260116  2.616878  1.493817  48.048223  1.398347  \n",
       "NO     5.302326  2.859097  1.461012  46.707521  1.390411  \n",
       "SE     5.426211  2.879425  1.482379  49.403189  1.386564  "
      ]
     },
     "execution_count": 18,
     "metadata": {},
     "output_type": "execute_result"
    }
   ],
   "source": [
    "cat2"
   ]
  },
  {
   "cell_type": "code",
   "execution_count": 19,
   "metadata": {},
   "outputs": [
    {
     "data": {
      "text/plain": [
       "Ttest_indResult(statistic=-0.07405571902413619, pvalue=0.9424264810347233)"
      ]
     },
     "execution_count": 19,
     "metadata": {},
     "output_type": "execute_result"
    }
   ],
   "source": [
    "ttest_ind(cat1['ppltrst'], cat2['ppltrst'])"
   ]
  },
  {
   "cell_type": "markdown",
   "metadata": {},
   "source": [
    "We can't prove that this is a significant difference since p value is more than 0.05."
   ]
  },
  {
   "cell_type": "markdown",
   "metadata": {},
   "source": [
    "## Does people bacome less happier?"
   ]
  },
  {
   "cell_type": "code",
   "execution_count": 20,
   "metadata": {},
   "outputs": [
    {
     "data": {
      "text/plain": [
       "Ttest_indResult(statistic=-0.10156416098570785, pvalue=0.9211102400394623)"
      ]
     },
     "execution_count": 20,
     "metadata": {},
     "output_type": "execute_result"
    }
   ],
   "source": [
    "ttest_ind(cat1['happy'], cat2['happy'])"
   ]
  },
  {
   "cell_type": "markdown",
   "metadata": {},
   "source": [
    "We can't prove that this is a significant difference since p value is more than 0.05."
   ]
  },
  {
   "cell_type": "markdown",
   "metadata": {},
   "source": [
    "## Who reported watching more TV in 2012, men or women?"
   ]
  },
  {
   "cell_type": "code",
   "execution_count": 42,
   "metadata": {},
   "outputs": [],
   "source": [
    "df6 = df[df['year']==6]"
   ]
  },
  {
   "cell_type": "code",
   "execution_count": 43,
   "metadata": {},
   "outputs": [],
   "source": [
    "cat1 = df6[df6['gndr']==1].groupby('cntry').mean()\n",
    "cat2 = df6[df6['gndr']==2].groupby('cntry').mean()"
   ]
  },
  {
   "cell_type": "code",
   "execution_count": 44,
   "metadata": {},
   "outputs": [
    {
     "data": {
      "text/plain": [
       "Ttest_indResult(statistic=0.08622485386090141, pvalue=0.932989702221862)"
      ]
     },
     "execution_count": 44,
     "metadata": {},
     "output_type": "execute_result"
    }
   ],
   "source": [
    "ttest_ind(cat1['tvtot'], cat2['tvtot'])"
   ]
  },
  {
   "cell_type": "markdown",
   "metadata": {},
   "source": [
    "We can't prove that this is a significant difference since p value is more than 0.05."
   ]
  },
  {
   "cell_type": "markdown",
   "metadata": {},
   "source": [
    "## Who was more likely to believe people were fair in 2012, people living with a partner or people living alone?"
   ]
  },
  {
   "cell_type": "code",
   "execution_count": 53,
   "metadata": {},
   "outputs": [],
   "source": [
    "cat1 = df6[df6['partner']==1].groupby('cntry').mean()\n",
    "cat2 = df6[df6['partner']==2].groupby('cntry').mean()"
   ]
  },
  {
   "cell_type": "code",
   "execution_count": 54,
   "metadata": {},
   "outputs": [
    {
     "data": {
      "text/plain": [
       "(               idno  year     tvtot   ppltrst   pplfair    pplhlp     happy  \\\n",
       " cntry                                                                         \n",
       " CH     1.462165e+03     6  3.193227  5.805169  6.466135  5.808765  8.266932   \n",
       " CZ     1.457218e+03     6  5.216802  4.336043  5.005450  4.447439  7.013624   \n",
       " DE     1.100050e+07     6  4.777778  5.444444  6.500000  4.875000  8.000000   \n",
       " ES     1.485196e+03     6  4.044796  5.144928  5.330251  4.774108  7.739130   \n",
       " NO     1.452249e+04     6  3.871579  6.677215  6.968354  6.160338  8.440678   \n",
       " SE     1.531570e+03     6  3.757194  6.248649  6.702703  6.219424  8.233813   \n",
       " \n",
       "         sclmeet    sclact      gndr       agea  partner  \n",
       " cntry                                                    \n",
       " CH     4.892000  2.682093  1.497018  51.032787      1.0  \n",
       " CZ     4.478378  2.604396  1.443548  48.725762      1.0  \n",
       " DE     4.888889  2.888889  1.555556  53.111111      1.0  \n",
       " ES     5.014531  2.547020  1.527009  51.160326      1.0  \n",
       " NO     5.421053  2.934461  1.446316  49.211991      1.0  \n",
       " SE     5.327928  2.884477  1.451439  52.596591      1.0  ,\n",
       " <bound method DataFrame.info of                idno  year     tvtot   ppltrst   pplfair    pplhlp     happy  \\\n",
       " cntry                                                                         \n",
       " CH     1.515174e+03     6  3.044444  5.440741  6.134328  5.572491  7.753731   \n",
       " CZ     1.428208e+03     6  5.049645  4.375000  4.882143  4.558719  6.444043   \n",
       " DE     1.100044e+07     6  5.200000  4.800000  4.400000  5.200000  6.400000   \n",
       " ES     1.439634e+03     6  3.847007  5.059867  5.390244  4.703125  7.224444   \n",
       " NO     1.389895e+04     6  3.751969  6.586614  6.842520  5.940711  7.905138   \n",
       " SE     2.134159e+03     6  3.588068  5.757835  6.331429  5.754986  7.390313   \n",
       " \n",
       "         sclmeet    sclact      gndr       agea  partner  \n",
       " cntry                                                    \n",
       " CH     5.429630  2.747170  1.548148  40.526515      2.0  \n",
       " CZ     4.872792  2.625899  1.605634  44.927536      2.0  \n",
       " DE     5.200000  2.800000  1.600000  50.200000      2.0  \n",
       " ES     5.587583  2.579775  1.494457  41.895216      2.0  \n",
       " NO     5.736220  3.027778  1.519685  40.855422      2.0  \n",
       " SE     5.843750  2.971264  1.502841  42.616959      2.0  >)"
      ]
     },
     "execution_count": 54,
     "metadata": {},
     "output_type": "execute_result"
    }
   ],
   "source": [
    "cat1,cat2.info"
   ]
  },
  {
   "cell_type": "code",
   "execution_count": 46,
   "metadata": {},
   "outputs": [
    {
     "data": {
      "text/plain": [
       "Ttest_indResult(statistic=0.9961993012831171, pvalue=0.34264753374509116)"
      ]
     },
     "execution_count": 46,
     "metadata": {},
     "output_type": "execute_result"
    }
   ],
   "source": [
    "ttest_ind(cat1['pplfair'], cat2['pplfair'])"
   ]
  },
  {
   "cell_type": "code",
   "execution_count": 55,
   "metadata": {},
   "outputs": [
    {
     "data": {
      "image/png": "[encoded data removed]",
      "text/plain": [
       "<Figure size 360x360 with 1 Axes>"
      ]
     },
     "metadata": {},
     "output_type": "display_data"
    }
   ],
   "source": [
    "sns.lmplot(x=\"partner\", y=\"ppltrst\",\n",
    "           data=df6);"
   ]
  },
  {
   "cell_type": "markdown",
   "metadata": {},
   "source": [
    "## Pick three or four of the countries in the sample and compare how often people met socially in 2014. Are there differences, and if so, which countries stand out?"
   ]
  },
  {
   "cell_type": "code",
   "execution_count": 57,
   "metadata": {},
   "outputs": [],
   "source": [
    "df7 = df[df['year']==7]"
   ]
  },
  {
   "cell_type": "code",
   "execution_count": 74,
   "metadata": {},
   "outputs": [],
   "source": [
    "cat1 = df7[df7['cntry']=='CH'].groupby('year').mean()\n",
    "cat2 = df7[df7['cntry']=='NO'].groupby('year').mean()\n",
    "cat3 = df7[df7['cntry']=='ES'].groupby('year').mean()"
   ]
  },
  {
   "cell_type": "code",
   "execution_count": 75,
   "metadata": {},
   "outputs": [
    {
     "data": {
      "text/html": [
       "<div>\n",
       "<style scoped>\n",
       "    .dataframe tbody tr th:only-of-type {\n",
       "        vertical-align: middle;\n",
       "    }\n",
       "\n",
       "    .dataframe tbody tr th {\n",
       "        vertical-align: top;\n",
       "    }\n",
       "\n",
       "    .dataframe thead th {\n",
       "        text-align: right;\n",
       "    }\n",
       "</style>\n",
       "<table border=\"1\" class=\"dataframe\">\n",
       "  <thead>\n",
       "    <tr style=\"text-align: right;\">\n",
       "      <th></th>\n",
       "      <th>idno</th>\n",
       "      <th>tvtot</th>\n",
       "      <th>ppltrst</th>\n",
       "      <th>pplfair</th>\n",
       "      <th>pplhlp</th>\n",
       "      <th>happy</th>\n",
       "      <th>sclmeet</th>\n",
       "      <th>sclact</th>\n",
       "      <th>gndr</th>\n",
       "      <th>agea</th>\n",
       "      <th>partner</th>\n",
       "    </tr>\n",
       "    <tr>\n",
       "      <th>year</th>\n",
       "      <th></th>\n",
       "      <th></th>\n",
       "      <th></th>\n",
       "      <th></th>\n",
       "      <th></th>\n",
       "      <th></th>\n",
       "      <th></th>\n",
       "      <th></th>\n",
       "      <th></th>\n",
       "      <th></th>\n",
       "      <th></th>\n",
       "    </tr>\n",
       "  </thead>\n",
       "  <tbody>\n",
       "    <tr>\n",
       "      <th>7</th>\n",
       "      <td>1480.680466</td>\n",
       "      <td>3.065977</td>\n",
       "      <td>5.751617</td>\n",
       "      <td>6.219922</td>\n",
       "      <td>5.67141</td>\n",
       "      <td>8.116429</td>\n",
       "      <td>5.160622</td>\n",
       "      <td>2.781699</td>\n",
       "      <td>1.51229</td>\n",
       "      <td>46.141145</td>\n",
       "      <td>1.376455</td>\n",
       "    </tr>\n",
       "  </tbody>\n",
       "</table>\n",
       "</div>"
      ],
      "text/plain": [
       "             idno     tvtot   ppltrst   pplfair   pplhlp     happy   sclmeet  \\\n",
       "year                                                                           \n",
       "7     1480.680466  3.065977  5.751617  6.219922  5.67141  8.116429  5.160622   \n",
       "\n",
       "        sclact     gndr       agea   partner  \n",
       "year                                          \n",
       "7     2.781699  1.51229  46.141145  1.376455  "
      ]
     },
     "execution_count": 75,
     "metadata": {},
     "output_type": "execute_result"
    }
   ],
   "source": [
    "cat1"
   ]
  },
  {
   "cell_type": "code",
   "execution_count": 76,
   "metadata": {},
   "outputs": [
    {
     "data": {
      "text/plain": [
       "KruskalResult(statistic=2.0, pvalue=0.36787944117144245)"
      ]
     },
     "execution_count": 76,
     "metadata": {},
     "output_type": "execute_result"
    }
   ],
   "source": [
    "stats.kruskal(cat1['sclmeet'], cat2['sclmeet'], cat3['sclmeet'])"
   ]
  },
  {
   "cell_type": "markdown",
   "metadata": {},
   "source": [
    "## Pick three or four of the countries in the sample and compare how often people took part in social activities, relative to others their age, in 2014. Are there differences, and if so, which countries stand out?"
   ]
  },
  {
   "cell_type": "code",
   "execution_count": 84,
   "metadata": {},
   "outputs": [],
   "source": [
    "df7['age_gr'] = pd.qcut(df7['agea'], q=4)"
   ]
  },
  {
   "cell_type": "code",
   "execution_count": 111,
   "metadata": {},
   "outputs": [],
   "source": [
    "cat1 = df7[df7['cntry']=='CH'].groupby('age_gr').mean()\n",
    "cat2 = df7[df7['cntry']=='NO'].groupby('age_gr').mean()\n",
    "cat3 = df7[df7['cntry']=='ES'].groupby('age_gr').mean()"
   ]
  },
  {
   "cell_type": "code",
   "execution_count": 112,
   "metadata": {},
   "outputs": [
    {
     "data": {
      "text/plain": [
       "(<bound method Series.mean of age_gr\n",
       " (14.999, 33.0]    2.793427\n",
       " (33.0, 47.0]      2.807692\n",
       " (47.0, 62.0]      2.766304\n",
       " (62.0, 114.0]     2.768293\n",
       " Name: sclact, dtype: float64>, <bound method Series.mean of age_gr\n",
       " (14.999, 33.0]    2.927083\n",
       " (33.0, 47.0]      2.795580\n",
       " (47.0, 62.0]      2.762162\n",
       " (62.0, 114.0]     2.950000\n",
       " Name: sclact, dtype: float64>, <bound method Series.mean of age_gr\n",
       " (14.999, 33.0]    2.723549\n",
       " (33.0, 47.0]      2.677741\n",
       " (47.0, 62.0]      2.655629\n",
       " (62.0, 114.0]     2.393822\n",
       " Name: sclact, dtype: float64>)"
      ]
     },
     "execution_count": 112,
     "metadata": {},
     "output_type": "execute_result"
    }
   ],
   "source": [
    "cat1['sclact'].mean, cat2['sclact'].mean, cat3['sclact'].mean"
   ]
  },
  {
   "cell_type": "code",
   "execution_count": 96,
   "metadata": {},
   "outputs": [
    {
     "data": {
      "text/plain": [
       "KruskalResult(statistic=7.7307692307692335, pvalue=0.020954861324889128)"
      ]
     },
     "execution_count": 96,
     "metadata": {},
     "output_type": "execute_result"
    }
   ],
   "source": [
    "stats.kruskal(cat1['sclact'], cat2['sclact'], cat3['sclact'])"
   ]
  },
  {
   "cell_type": "code",
   "execution_count": null,
   "metadata": {},
   "outputs": [],
   "source": [
    "Yes, here is the difference between countries"
   ]
  }
 ],
 "metadata": {
  "kernelspec": {
   "display_name": "Python 3",
   "language": "python",
   "name": "python3"
  },
  "language_info": {
   "codemirror_mode": {
    "name": "ipython",
    "version": 3
   },
   "file_extension": ".py",
   "mimetype": "text/x-python",
   "name": "python",
   "nbconvert_exporter": "python",
   "pygments_lexer": "ipython3",
   "version": "3.7.4"
  }
 },
 "nbformat": 4,
 "nbformat_minor": 2
}
